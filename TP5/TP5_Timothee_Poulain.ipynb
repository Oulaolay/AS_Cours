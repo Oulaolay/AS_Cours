{
 "cells": [
  {
   "cell_type": "markdown",
   "metadata": {},
   "source": [
    "# TP5 - Graphes de calcul"
   ]
  },
  {
   "cell_type": "markdown",
   "metadata": {},
   "source": [
    "Implémentation de structure de calculs plus complexes que de simples réseau de neurones profonds.\n",
    "(Pour plus de détails cf RDFIA/TP_DEEP/Explication_mathématiques)\n",
    "\\begin{equation} f_{\\gamma,\\theta}(x)=f_\\theta \\, (x\\circ Relu(\\gamma)) \\end{equation}"
   ]
  },
  {
   "cell_type": "code",
   "execution_count": 7,
   "metadata": {
    "collapsed": false
   },
   "outputs": [],
   "source": [
    " require 'nn'\n",
    " require 'gnuplot'\n",
    " require 'svm'\n",
    " require 'optim'\n",
    " require 'nngraph'\n",
    "\n",
    "\n",
    "-- Test avec mnist (en cours)\n",
    "local mnist = require 'mnist'\n",
    "\n",
    "train_file = 'mnist.t7/train_32x32.t7'\n",
    "test_file = 'mnist.t7/test_32x32.t7'\n",
    "\n",
    "trainData = torch.load(train_file,'ascii')\n",
    "testData = torch.load(test_file,'ascii')\n",
    "\n",
    "\n",
    "\n",
    "trainset = {\n",
    "    size = 50000,\n",
    "    data = fullset.data[{{1,50000}}]:double(),\n",
    "    label = fullset.label[{{1,50000}}]\n",
    "}\n"
   ]
  },
  {
   "cell_type": "code",
   "execution_count": 14,
   "metadata": {
    "collapsed": false
   },
   "outputs": [],
   "source": [
    "require 'nn'\n",
    "require 'gnuplot'\n",
    "require 'svm'\n",
    "require 'optim'\n",
    "require 'nngraph'\n",
    "require 'image'\n",
    "\n",
    "--Fonction prise dans le guide.lua\n",
    "function gen_gauss(nbpoints,mu,sigma)\n",
    "local d = #mu\n",
    "local X = torch.randn(nbpoints,d)\n",
    "for i = 1,d do X[{{},i}]=X[{{},i}]*sigma[i]+mu[i] end\n",
    "return X\n",
    "end\n",
    "\n",
    "--Creation de données pour quatres gausiennes\n",
    "function create_data(parametres,nbpoints)\n",
    "    local X_final=gen_gauss(nbpoints,parametres[1][1],parametres[1][2])\n",
    "    local Y_final=torch.ones(nbpoints,1) \n",
    "    Y_final=Y_final*parametres[1][3]\n",
    "    for i=2,4 do\n",
    "    X_final=torch.cat(X_final,(gen_gauss(nbpoints,parametres[i][1],parametres[i][2])),1)\n",
    "    Y_final=torch.cat(Y_final,(torch.ones(nbpoints) *parametres[i][3]),1)\n",
    "    end\n",
    "    return X_final,Y_final\n",
    "end\n",
    "\n",
    "\n",
    "-- Paramètres des quatres gaussiennes {mu,sigma,label {-1,1}}\n",
    "parametres = {{{1,1},{0.5,0.5},1},\n",
    "             {{-1,1},{0.5,0.5},-1},\n",
    "             {{-1,-1},{0.5,0.5},1},\n",
    "             {{1,-1},{0.5,0.5},-1}}            \n",
    "   \n",
    "-- Création de données pour le train & le test 600 points pour le train, 200 pour le test (ratior=75%/25%)   \n",
    "xtrain,ytrain = create_data(parametres,150)\n",
    "xtest,ytest=create_data(parametres,50)\n"
   ]
  },
  {
   "cell_type": "code",
   "execution_count": 24,
   "metadata": {
    "collapsed": false,
    "scrolled": true
   },
   "outputs": [],
   "source": [
    "--Deux dimensions pour notre jeu de test\n",
    "N=2\n",
    "nbIter = 100000\n",
    "lr = 1e-4\n",
    "all_losses={}\n",
    "compt=0\n",
    "criterion=nn.MSECriterion()\n",
    "\n",
    "M1=nn.Linear(1,N)\n",
    "M2=nn.L1Penalty(0.001)\n",
    "M3=nn.ReLU()\n",
    "M4=nn.CMulTable()\n",
    "M5=nn.Linear(N,1)\n",
    "M6=nn.Tanh()\n",
    "\n",
    "ones = torch.ones(xtrain:size(1),1)\n",
    "\n",
    "for i = 1, nbIter do\n",
    "--Model init Gradient\n",
    "M1:zeroGradParameters()\n",
    "M5:zeroGradParameters()\n",
    "--Forward partie \n",
    "O1=M1:forward(ones)\n",
    "O2=M2:forward(O1)\n",
    "O3=M3:forward(O2)\n",
    "O4=M4:forward({xtrain,O3})\n",
    "O5=M5:forward(O4)\n",
    "O6=M6:forward(O5)\n",
    "loss=criterion:forward(O6,ytrain)\n",
    "\n",
    "--Backward partie\n",
    "delta=criterion:backward(O6,ytrain)\n",
    "delta_6=M6:backward(O5,delta)\n",
    "delta_5=M5:backward(O4,delta_6)\n",
    "delta_4=M4:backward({xtrain,O3},delta_5)[2]\n",
    "delta_3=M3:backward(O2,delta_4)\n",
    "delta_2=M2:backward(O2,delta_3)\n",
    "delta_1=M1:backward(ones,delta_2)\n",
    "\n",
    "M1:updateParameters(lr)\n",
    "M5:updateParameters(lr)\n",
    "all_losses[i]=loss\n",
    "end\n",
    "gnuplot.plot(torch.Tensor(all_losses))"
   ]
  },
  {
   "cell_type": "markdown",
   "metadata": {},
   "source": [
    "#### Réécriture de la fonction avec nngraph :\n",
    "\n",
    "\\begin{equation} f_{\\gamma,\\theta}(x)=f_\\theta \\, (x\\circ Relu(\\gamma)) \\end{equation}"
   ]
  },
  {
   "cell_type": "code",
   "execution_count": 23,
   "metadata": {
    "collapsed": false
   },
   "outputs": [],
   "source": [
    "N=2\n",
    "criterion = nn.MSECriterion()\n",
    "--Création de noeud d'entrée, utilisation en tant que \"parent\"\n",
    "input1=nn.Identity()()\n",
    "input2=nn.Identity()()\n",
    "-- Implémentation des modules\n",
    "M1=nn.Linear(1,N)(input2)\n",
    "M2=nn.L1Penalty(0.001)(M1)\n",
    "M3=nn.ReLU()(M2)\n",
    "M4=nn.CMulTable()({input1,M3})\n",
    "M5=nn.Linear(N,1)(M4)\n",
    "M6=nn.Tanh()(M5)\n",
    "-- Combinaison des différrents inputs\n",
    "model=nn.gModule({input1,input2},{M6})\n",
    "\n",
    "nbIter = 100000\n",
    "lr = 1e-4\n",
    "all_losses={}\n",
    "compt=0\n",
    "\n",
    "\n",
    "\n",
    "matrix_ones = torch.ones(xtrain:size(1),1)\n",
    "\n",
    "for i = 1, nbIter do\n",
    "--Initialisation Gradient\n",
    "model:zeroGradParameters()\n",
    "-- Forward partie\n",
    "output=model:forward({xtrain,matrix_ones})\n",
    "loss=criterion:forward(output,ytrain)\n",
    "\n",
    "-- Backward partie\n",
    "delta=criterion:backward(output,ytrain)\n",
    "model:backward({xtrain,matrix_ones},delta)\n",
    "model:updateParameters(lr)\n",
    "all_losses[i]=loss\n",
    "end\n",
    "gnuplot.plot(torch.Tensor(all_losses))\n",
    "--graph.dot(model.fg, 'MLP', 'MLP')\n",
    "\n"
   ]
  },
  {
   "cell_type": "code",
   "execution_count": 17,
   "metadata": {
    "collapsed": false
   },
   "outputs": [
    {
     "data": {
      "text/plain": [
       "3d45818a-b5bc-48e0-c871-129881dfe385\t\n"
      ]
     },
     "execution_count": 17,
     "metadata": {},
     "output_type": "execute_result"
    },
    {
     "data": {
      "text/html": [
       "<script type=\"text/javascript\">\n",
       "  $(function() {\n",
       "    $(\"#3d45818a-b5bc-48e0-c871-129881dfe385\").html('<?xml version=\"1.0\" encoding=\"UTF-8\" standalone=\"no\"?>\\n<!DOCTYPE svg PUBLIC \"-//W3C//DTD SVG 1.1//EN\"\\n \"http://www.w3.org/Graphics/SVG/1.1/DTD/svg11.dtd\">\\n<!-- Generated by graphviz version 2.38.0 (20140413.2041)\\n -->\\n<!-- Title: G Pages: 1 -->\\n<svg width=\"660pt\" height=\"1638pt\"\\n viewBox=\"0.00 0.00 659.97 1637.96\" xmlns=\"http://www.w3.org/2000/svg\" xmlns:xlink=\"http://www.w3.org/1999/xlink\">\\n<g id=\"graph0\" class=\"graph\" transform=\"scale(1 1) rotate(0) translate(4 1633.96)\">\\n<title>G</title>\\n<polygon fill=\"white\" stroke=\"none\" points=\"-4,4 -4,-1633.96 655.968,-1633.96 655.968,4 -4,4\"/>\\n<!-- n1 -->\\n<g id=\"node1\" class=\"node\"><title>n1</title>\\n<g id=\"a_node1\"><a xlink:title=\"[[string &quot;N=2...&quot;]]:12_\">\\n<ellipse fill=\"none\" stroke=\"black\" cx=\"355.484\" cy=\"-190.856\" rx=\"132.872\" ry=\"58.8803\"/>\\n<text text-anchor=\"middle\" x=\"355.484\" y=\"-217.156\" font-family=\"Times,serif\" font-size=\"14.00\">Node1</text>\\n<text text-anchor=\"start\" x=\"269.484\" y=\"-202.156\" font-family=\"Times,serif\" font-size=\"14.00\">input = {Tensor[600x1]}</text>\\n<text text-anchor=\"start\" x=\"269.484\" y=\"-187.156\" font-family=\"Times,serif\" font-size=\"14.00\">module = nn.Tanh</text>\\n<text text-anchor=\"start\" x=\"269.484\" y=\"-172.156\" font-family=\"Times,serif\" font-size=\"14.00\">reverseMap = {}</text>\\n<text text-anchor=\"middle\" x=\"355.484\" y=\"-157.156\" font-family=\"Times,serif\" font-size=\"14.00\">gradOutput = {Tensor[600x1]}</text>\\n</a>\\n</g>\\n</g>\\n<!-- n2 -->\\n<g id=\"node2\" class=\"node\"><title>n2</title>\\n<g id=\"a_node2\"><a xlink:title=\"[[C]]:&#45;1_\">\\n<ellipse fill=\"none\" stroke=\"black\" cx=\"355.484\" cy=\"-48.0833\" rx=\"132.872\" ry=\"48.1667\"/>\\n<text text-anchor=\"middle\" x=\"355.484\" y=\"-66.8833\" font-family=\"Times,serif\" font-size=\"14.00\">Node2</text>\\n<text text-anchor=\"start\" x=\"269.484\" y=\"-51.8833\" font-family=\"Times,serif\" font-size=\"14.00\">input = {Tensor[600x1]}</text>\\n<text text-anchor=\"start\" x=\"269.484\" y=\"-36.8833\" font-family=\"Times,serif\" font-size=\"14.00\">reverseMap = {}</text>\\n<text text-anchor=\"middle\" x=\"355.484\" y=\"-21.8833\" font-family=\"Times,serif\" font-size=\"14.00\">gradOutput = {Tensor[600x1]}</text>\\n</a>\\n</g>\\n</g>\\n<!-- n1&#45;&gt;n2 -->\\n<g id=\"edge1\" class=\"edge\"><title>n1&#45;&gt;n2</title>\\n<path fill=\"none\" stroke=\"black\" d=\"M355.484,-131.786C355.484,-123.386 355.484,-114.745 355.484,-106.361\"/>\\n<polygon fill=\"black\" stroke=\"black\" points=\"358.984,-106.295 355.484,-96.2952 351.984,-106.295 358.984,-106.295\"/>\\n</g>\\n<!-- n3 -->\\n<g id=\"node3\" class=\"node\"><title>n3</title>\\n<g id=\"a_node3\"><a xlink:title=\"[[string &quot;N=2...&quot;]]:11_\">\\n<ellipse fill=\"none\" stroke=\"black\" cx=\"355.484\" cy=\"-344.236\" rx=\"132.872\" ry=\"58.8803\"/>\\n<text text-anchor=\"middle\" x=\"355.484\" y=\"-370.536\" font-family=\"Times,serif\" font-size=\"14.00\">Node3</text>\\n<text text-anchor=\"start\" x=\"269.484\" y=\"-355.536\" font-family=\"Times,serif\" font-size=\"14.00\">input = {Tensor[600x2]}</text>\\n<text text-anchor=\"start\" x=\"269.484\" y=\"-340.536\" font-family=\"Times,serif\" font-size=\"14.00\">module = nn.Linear(2 &#45;&gt; 1)</text>\\n<text text-anchor=\"start\" x=\"269.484\" y=\"-325.536\" font-family=\"Times,serif\" font-size=\"14.00\">reverseMap = {}</text>\\n<text text-anchor=\"middle\" x=\"355.484\" y=\"-310.536\" font-family=\"Times,serif\" font-size=\"14.00\">gradOutput = {Tensor[600x1]}</text>\\n</a>\\n</g>\\n</g>\\n<!-- n3&#45;&gt;n1 -->\\n<g id=\"edge2\" class=\"edge\"><title>n3&#45;&gt;n1</title>\\n<path fill=\"none\" stroke=\"black\" d=\"M355.484,-285.142C355.484,-276.902 355.484,-268.368 355.484,-259.96\"/>\\n<polygon fill=\"black\" stroke=\"black\" points=\"358.984,-259.795 355.484,-249.795 351.984,-259.795 358.984,-259.795\"/>\\n</g>\\n<!-- n4 -->\\n<g id=\"node4\" class=\"node\"><title>n4</title>\\n<g id=\"a_node4\"><a xlink:title=\"[[string &quot;N=2...&quot;]]:10_\">\\n<ellipse fill=\"none\" stroke=\"black\" cx=\"355.484\" cy=\"-508.222\" rx=\"168.083\" ry=\"69.0935\"/>\\n<text text-anchor=\"middle\" x=\"355.484\" y=\"-542.022\" font-family=\"Times,serif\" font-size=\"14.00\">Node4</text>\\n<text text-anchor=\"start\" x=\"244.484\" y=\"-527.022\" font-family=\"Times,serif\" font-size=\"14.00\">input = {Tensor[600x2],Tensor[600x2]}</text>\\n<text text-anchor=\"start\" x=\"244.484\" y=\"-512.022\" font-family=\"Times,serif\" font-size=\"14.00\">mapindex = {Node5,Node6}</text>\\n<text text-anchor=\"start\" x=\"244.484\" y=\"-497.022\" font-family=\"Times,serif\" font-size=\"14.00\">module = nn.CMulTable</text>\\n<text text-anchor=\"start\" x=\"244.484\" y=\"-482.022\" font-family=\"Times,serif\" font-size=\"14.00\">reverseMap = {}</text>\\n<text text-anchor=\"middle\" x=\"355.484\" y=\"-467.022\" font-family=\"Times,serif\" font-size=\"14.00\">gradOutput = {Tensor[600x2]}</text>\\n</a>\\n</g>\\n</g>\\n<!-- n4&#45;&gt;n3 -->\\n<g id=\"edge3\" class=\"edge\"><title>n4&#45;&gt;n3</title>\\n<path fill=\"none\" stroke=\"black\" d=\"M355.484,-438.526C355.484,-430.127 355.484,-421.548 355.484,-413.161\"/>\\n<polygon fill=\"black\" stroke=\"black\" points=\"358.984,-413.05 355.484,-403.05 351.984,-413.051 358.984,-413.05\"/>\\n</g>\\n<!-- n5 -->\\n<g id=\"node5\" class=\"node\"><title>n5</title>\\n<g id=\"a_node5\"><a xlink:title=\"[[string &quot;N=2...&quot;]]:4_\">\\n<ellipse fill=\"none\" stroke=\"black\" cx=\"199.484\" cy=\"-978.968\" rx=\"132.872\" ry=\"58.8803\"/>\\n<text text-anchor=\"middle\" x=\"199.484\" y=\"-1005.27\" font-family=\"Times,serif\" font-size=\"14.00\">Node5</text>\\n<text text-anchor=\"start\" x=\"113.484\" y=\"-990.268\" font-family=\"Times,serif\" font-size=\"14.00\">input = {Tensor[600x2]}</text>\\n<text text-anchor=\"start\" x=\"113.484\" y=\"-975.268\" font-family=\"Times,serif\" font-size=\"14.00\">module = nn.Identity</text>\\n<text text-anchor=\"start\" x=\"113.484\" y=\"-960.268\" font-family=\"Times,serif\" font-size=\"14.00\">reverseMap = {}</text>\\n<text text-anchor=\"middle\" x=\"199.484\" y=\"-945.268\" font-family=\"Times,serif\" font-size=\"14.00\">gradOutput = {Tensor[600x2]}</text>\\n</a>\\n</g>\\n</g>\\n<!-- n5&#45;&gt;n4 -->\\n<g id=\"edge4\" class=\"edge\"><title>n5&#45;&gt;n4</title>\\n<path fill=\"none\" stroke=\"black\" d=\"M212.098,-920.339C228.863,-847.529 261.234,-718.995 302.484,-613.519 306.156,-604.13 310.396,-594.461 314.847,-584.973\"/>\\n<polygon fill=\"black\" stroke=\"black\" points=\"318.007,-586.479 319.167,-575.947 311.692,-583.457 318.007,-586.479\"/>\\n</g>\\n<!-- n6 -->\\n<g id=\"node6\" class=\"node\"><title>n6</title>\\n<g id=\"a_node6\"><a xlink:title=\"[[string &quot;N=2...&quot;]]:9_\">\\n<ellipse fill=\"none\" stroke=\"black\" cx=\"444.484\" cy=\"-672.209\" rx=\"132.872\" ry=\"58.8803\"/>\\n<text text-anchor=\"middle\" x=\"444.484\" y=\"-698.509\" font-family=\"Times,serif\" font-size=\"14.00\">Node6</text>\\n<text text-anchor=\"start\" x=\"358.484\" y=\"-683.509\" font-family=\"Times,serif\" font-size=\"14.00\">input = {Tensor[600x2]}</text>\\n<text text-anchor=\"start\" x=\"358.484\" y=\"-668.509\" font-family=\"Times,serif\" font-size=\"14.00\">module = nn.ReLU</text>\\n<text text-anchor=\"start\" x=\"358.484\" y=\"-653.509\" font-family=\"Times,serif\" font-size=\"14.00\">reverseMap = {}</text>\\n<text text-anchor=\"middle\" x=\"444.484\" y=\"-638.509\" font-family=\"Times,serif\" font-size=\"14.00\">gradOutput = {Tensor[600x2]}</text>\\n</a>\\n</g>\\n</g>\\n<!-- n6&#45;&gt;n4 -->\\n<g id=\"edge5\" class=\"edge\"><title>n6&#45;&gt;n4</title>\\n<path fill=\"none\" stroke=\"black\" d=\"M413.606,-615.008C408.247,-605.255 402.597,-594.971 397.009,-584.802\"/>\\n<polygon fill=\"black\" stroke=\"black\" points=\"400.007,-582.989 392.124,-575.91 393.872,-586.36 400.007,-582.989\"/>\\n</g>\\n<!-- n7 -->\\n<g id=\"node7\" class=\"node\"><title>n7</title>\\n<g id=\"a_node7\"><a xlink:title=\"[[C]]:&#45;1_&#45;1\">\\n<ellipse fill=\"none\" stroke=\"black\" cx=\"177.484\" cy=\"-1132.35\" rx=\"177.468\" ry=\"58.8803\"/>\\n<text text-anchor=\"middle\" x=\"177.484\" y=\"-1158.65\" font-family=\"Times,serif\" font-size=\"14.00\">Node7</text>\\n<text text-anchor=\"start\" x=\"59.9838\" y=\"-1143.65\" font-family=\"Times,serif\" font-size=\"14.00\">input = {{Tensor[600x2],Tensor[600x1]}}</text>\\n<text text-anchor=\"start\" x=\"59.9838\" y=\"-1128.65\" font-family=\"Times,serif\" font-size=\"14.00\">reverseMap = {}</text>\\n<text text-anchor=\"start\" x=\"59.9838\" y=\"-1113.65\" font-family=\"Times,serif\" font-size=\"14.00\">selectindex = 1</text>\\n<text text-anchor=\"middle\" x=\"177.484\" y=\"-1098.65\" font-family=\"Times,serif\" font-size=\"14.00\">gradOutput = {Tensor[600x2]}</text>\\n</a>\\n</g>\\n</g>\\n<!-- n7&#45;&gt;n5 -->\\n<g id=\"edge6\" class=\"edge\"><title>n7&#45;&gt;n5</title>\\n<path fill=\"none\" stroke=\"black\" d=\"M185.864,-1073.69C187.094,-1065.22 188.371,-1056.43 189.628,-1047.78\"/>\\n<polygon fill=\"black\" stroke=\"black\" points=\"193.116,-1048.12 191.091,-1037.72 186.189,-1047.11 193.116,-1048.12\"/>\\n</g>\\n<!-- n8 -->\\n<g id=\"node8\" class=\"node\"><title>n8</title>\\n<g id=\"a_node8\"><a xlink:title=\"[[string &quot;N=2...&quot;]]:8_\">\\n<ellipse fill=\"none\" stroke=\"black\" cx=\"477.484\" cy=\"-825.588\" rx=\"132.872\" ry=\"58.8803\"/>\\n<text text-anchor=\"middle\" x=\"477.484\" y=\"-851.888\" font-family=\"Times,serif\" font-size=\"14.00\">Node8</text>\\n<text text-anchor=\"start\" x=\"391.484\" y=\"-836.888\" font-family=\"Times,serif\" font-size=\"14.00\">input = {Tensor[600x2]}</text>\\n<text text-anchor=\"start\" x=\"391.484\" y=\"-821.888\" font-family=\"Times,serif\" font-size=\"14.00\">module = nn.L1Penalty</text>\\n<text text-anchor=\"start\" x=\"391.484\" y=\"-806.888\" font-family=\"Times,serif\" font-size=\"14.00\">reverseMap = {}</text>\\n<text text-anchor=\"middle\" x=\"477.484\" y=\"-791.888\" font-family=\"Times,serif\" font-size=\"14.00\">gradOutput = {Tensor[600x2]}</text>\\n</a>\\n</g>\\n</g>\\n<!-- n8&#45;&gt;n6 -->\\n<g id=\"edge7\" class=\"edge\"><title>n8&#45;&gt;n6</title>\\n<path fill=\"none\" stroke=\"black\" d=\"M464.914,-766.926C463.035,-758.306 461.083,-749.354 459.165,-740.555\"/>\\n<polygon fill=\"black\" stroke=\"black\" points=\"462.569,-739.736 457.019,-730.71 455.729,-741.227 462.569,-739.736\"/>\\n</g>\\n<!-- n9 -->\\n<g id=\"node9\" class=\"node\"><title>n9</title>\\n<g id=\"a_node9\"><a xlink:title=\"[[C]]:&#45;1_ split at [.../poulain/torch/install/share/lua/5.1/nngraph/gmodule.lua]:96&#45;mnode\">\\n<ellipse fill=\"none\" stroke=\"black\" cx=\"310.484\" cy=\"-1439.11\" rx=\"201.551\" ry=\"58.8803\"/>\\n<text text-anchor=\"middle\" x=\"310.484\" y=\"-1465.41\" font-family=\"Times,serif\" font-size=\"14.00\">Node9</text>\\n<text text-anchor=\"start\" x=\"175.984\" y=\"-1450.41\" font-family=\"Times,serif\" font-size=\"14.00\">input = {{Tensor[600x2],Tensor[600x1]}}</text>\\n<text text-anchor=\"start\" x=\"175.984\" y=\"-1435.41\" font-family=\"Times,serif\" font-size=\"14.00\">reverseMap = {}</text>\\n<text text-anchor=\"start\" x=\"175.984\" y=\"-1420.41\" font-family=\"Times,serif\" font-size=\"14.00\">nSplitOutputs = 2</text>\\n<text text-anchor=\"middle\" x=\"310.484\" y=\"-1405.41\" font-family=\"Times,serif\" font-size=\"14.00\">gradOutput = {{Tensor[600x2],Tensor[600x1]}}</text>\\n</a>\\n</g>\\n</g>\\n<!-- n9&#45;&gt;n7 -->\\n<g id=\"edge8\" class=\"edge\"><title>n9&#45;&gt;n7</title>\\n<path fill=\"none\" stroke=\"black\" d=\"M285.468,-1380.78C263.072,-1329.47 230.224,-1254.2 206.644,-1200.17\"/>\\n<polygon fill=\"black\" stroke=\"black\" points=\"209.708,-1198.44 202.501,-1190.67 203.293,-1201.24 209.708,-1198.44\"/>\\n</g>\\n<!-- n13 -->\\n<g id=\"node13\" class=\"node\"><title>n13</title>\\n<g id=\"a_node13\"><a xlink:title=\"[[C]]:&#45;1_&#45;2\">\\n<ellipse fill=\"none\" stroke=\"black\" cx=\"474.484\" cy=\"-1285.73\" rx=\"177.468\" ry=\"58.8803\"/>\\n<text text-anchor=\"middle\" x=\"474.484\" y=\"-1312.03\" font-family=\"Times,serif\" font-size=\"14.00\">Node13</text>\\n<text text-anchor=\"start\" x=\"356.984\" y=\"-1297.03\" font-family=\"Times,serif\" font-size=\"14.00\">input = {{Tensor[600x2],Tensor[600x1]}}</text>\\n<text text-anchor=\"start\" x=\"356.984\" y=\"-1282.03\" font-family=\"Times,serif\" font-size=\"14.00\">reverseMap = {}</text>\\n<text text-anchor=\"start\" x=\"356.984\" y=\"-1267.03\" font-family=\"Times,serif\" font-size=\"14.00\">selectindex = 2</text>\\n<text text-anchor=\"middle\" x=\"474.484\" y=\"-1252.03\" font-family=\"Times,serif\" font-size=\"14.00\">gradOutput = {Tensor[600x1]}</text>\\n</a>\\n</g>\\n</g>\\n<!-- n9&#45;&gt;n13 -->\\n<g id=\"edge13\" class=\"edge\"><title>n9&#45;&gt;n13</title>\\n<path fill=\"none\" stroke=\"black\" d=\"M370.155,-1383.03C382.366,-1371.76 395.292,-1359.83 407.733,-1348.34\"/>\\n<polygon fill=\"black\" stroke=\"black\" points=\"410.431,-1350.61 415.405,-1341.26 405.683,-1345.47 410.431,-1350.61\"/>\\n</g>\\n<!-- n10 -->\\n<g id=\"node10\" class=\"node\"><title>n10</title>\\n<g id=\"a_node10\"><a xlink:title=\"[[string &quot;N=2...&quot;]]:7_\">\\n<ellipse fill=\"none\" stroke=\"black\" cx=\"494.484\" cy=\"-978.968\" rx=\"132.872\" ry=\"58.8803\"/>\\n<text text-anchor=\"middle\" x=\"494.484\" y=\"-1005.27\" font-family=\"Times,serif\" font-size=\"14.00\">Node10</text>\\n<text text-anchor=\"start\" x=\"408.484\" y=\"-990.268\" font-family=\"Times,serif\" font-size=\"14.00\">input = {Tensor[600x1]}</text>\\n<text text-anchor=\"start\" x=\"408.484\" y=\"-975.268\" font-family=\"Times,serif\" font-size=\"14.00\">module = nn.Linear(1 &#45;&gt; 2)</text>\\n<text text-anchor=\"start\" x=\"408.484\" y=\"-960.268\" font-family=\"Times,serif\" font-size=\"14.00\">reverseMap = {}</text>\\n<text text-anchor=\"middle\" x=\"494.484\" y=\"-945.268\" font-family=\"Times,serif\" font-size=\"14.00\">gradOutput = {Tensor[600x2]}</text>\\n</a>\\n</g>\\n</g>\\n<!-- n10&#45;&gt;n8 -->\\n<g id=\"edge9\" class=\"edge\"><title>n10&#45;&gt;n8</title>\\n<path fill=\"none\" stroke=\"black\" d=\"M488.008,-920.306C487.057,-911.838 486.071,-903.051 485.099,-894.402\"/>\\n<polygon fill=\"black\" stroke=\"black\" points=\"488.564,-893.888 483.969,-884.341 481.607,-894.669 488.564,-893.888\"/>\\n</g>\\n<!-- n11 -->\\n<g id=\"node11\" class=\"node\"><title>n11</title>\\n<g id=\"a_node11\"><a xlink:title=\"[[C]]:&#45;1_\">\\n<ellipse fill=\"none\" stroke=\"black\" cx=\"310.484\" cy=\"-1581.88\" rx=\"201.551\" ry=\"48.1667\"/>\\n<text text-anchor=\"middle\" x=\"310.484\" y=\"-1600.68\" font-family=\"Times,serif\" font-size=\"14.00\">Node11</text>\\n<text text-anchor=\"start\" x=\"175.984\" y=\"-1585.68\" font-family=\"Times,serif\" font-size=\"14.00\">input = {Tensor[600x2],Tensor[600x1]}</text>\\n<text text-anchor=\"start\" x=\"175.984\" y=\"-1570.68\" font-family=\"Times,serif\" font-size=\"14.00\">reverseMap = {}</text>\\n<text text-anchor=\"middle\" x=\"310.484\" y=\"-1555.68\" font-family=\"Times,serif\" font-size=\"14.00\">gradOutput = {{Tensor[600x2],Tensor[600x1]}}</text>\\n</a>\\n</g>\\n</g>\\n<!-- n11&#45;&gt;n9 -->\\n<g id=\"edge10\" class=\"edge\"><title>n11&#45;&gt;n9</title>\\n<path fill=\"none\" stroke=\"black\" d=\"M310.484,-1533.61C310.484,-1525.46 310.484,-1516.84 310.484,-1508.27\"/>\\n<polygon fill=\"black\" stroke=\"black\" points=\"313.984,-1508.26 310.484,-1498.26 306.984,-1508.26 313.984,-1508.26\"/>\\n</g>\\n<!-- n12 -->\\n<g id=\"node12\" class=\"node\"><title>n12</title>\\n<g id=\"a_node12\"><a xlink:title=\"[[string &quot;N=2...&quot;]]:5_\">\\n<ellipse fill=\"none\" stroke=\"black\" cx=\"505.484\" cy=\"-1132.35\" rx=\"132.872\" ry=\"58.8803\"/>\\n<text text-anchor=\"middle\" x=\"505.484\" y=\"-1158.65\" font-family=\"Times,serif\" font-size=\"14.00\">Node12</text>\\n<text text-anchor=\"start\" x=\"419.484\" y=\"-1143.65\" font-family=\"Times,serif\" font-size=\"14.00\">input = {Tensor[600x1]}</text>\\n<text text-anchor=\"start\" x=\"419.484\" y=\"-1128.65\" font-family=\"Times,serif\" font-size=\"14.00\">module = nn.Identity</text>\\n<text text-anchor=\"start\" x=\"419.484\" y=\"-1113.65\" font-family=\"Times,serif\" font-size=\"14.00\">reverseMap = {}</text>\\n<text text-anchor=\"middle\" x=\"505.484\" y=\"-1098.65\" font-family=\"Times,serif\" font-size=\"14.00\">gradOutput = {Tensor[600x1]}</text>\\n</a>\\n</g>\\n</g>\\n<!-- n12&#45;&gt;n10 -->\\n<g id=\"edge11\" class=\"edge\"><title>n12&#45;&gt;n10</title>\\n<path fill=\"none\" stroke=\"black\" d=\"M501.294,-1073.69C500.678,-1065.22 500.04,-1056.43 499.412,-1047.78\"/>\\n<polygon fill=\"black\" stroke=\"black\" points=\"502.896,-1047.44 498.68,-1037.72 495.914,-1047.95 502.896,-1047.44\"/>\\n</g>\\n<!-- n13&#45;&gt;n12 -->\\n<g id=\"edge12\" class=\"edge\"><title>n13&#45;&gt;n12</title>\\n<path fill=\"none\" stroke=\"black\" d=\"M486.292,-1227.07C488.057,-1218.45 489.89,-1209.49 491.692,-1200.69\"/>\\n<polygon fill=\"black\" stroke=\"black\" points=\"495.131,-1201.35 493.708,-1190.85 488.273,-1199.94 495.131,-1201.35\"/>\\n</g>\\n</g>\\n</svg>\\n'); // clear any previous plot in window_id     \n",
       "  });\n",
       "</script>\n",
       "<div id=\"3d45818a-b5bc-48e0-c871-129881dfe385\"></div>\n"
      ]
     },
     "metadata": {},
     "output_type": "display_data"
    }
   ],
   "source": [
    "itorch.image('MLP.svg',{nrow=22})"
   ]
  },
  {
   "cell_type": "markdown",
   "metadata": {
    "collapsed": true
   },
   "source": [
    "Ce graphe permet de voir les différentes etapes que nous avons réaliser. Les inputs se séparent bien en deux parties, pour fusionner et avoir un seul output."
   ]
  },
  {
   "cell_type": "markdown",
   "metadata": {},
   "source": [
    "#### Graphe pour 100k itérations, pour nn.graph"
   ]
  },
  {
   "cell_type": "code",
   "execution_count": 21,
   "metadata": {
    "collapsed": false
   },
   "outputs": [
    {
     "data": {
      "image/png": "[encoded data removed]",
      "text/plain": [
       "Console does not support images"
      ]
     },
     "metadata": {
      "image/png": {
       "height": 384,
       "width": 640
      }
     },
     "output_type": "display_data"
    },
    {
     "data": {
      "text/plain": [
       "\n"
      ]
     },
     "execution_count": 21,
     "metadata": {},
     "output_type": "execute_result"
    }
   ],
   "source": [
    "itorch.image('std_back')"
   ]
  },
  {
   "cell_type": "markdown",
   "metadata": {},
   "source": [
    "#### Graphe pour 100k itérations, pour nn.graph"
   ]
  },
  {
   "cell_type": "code",
   "execution_count": 26,
   "metadata": {
    "collapsed": false
   },
   "outputs": [
    {
     "data": {
      "image/png": "[encoded data removed]",
      "text/plain": [
       "Console does not support images"
      ]
     },
     "metadata": {
      "image/png": {
       "height": 990,
       "width": 1920
      }
     },
     "output_type": "display_data"
    },
    {
     "data": {
      "text/plain": [
       "\n"
      ]
     },
     "execution_count": 26,
     "metadata": {},
     "output_type": "execute_result"
    }
   ],
   "source": [
    "itorch.image('no_nn_graph_100k')"
   ]
  }
 ],
 "metadata": {
  "kernelspec": {
   "display_name": "iTorch",
   "language": "lua",
   "name": "itorch"
  },
  "language_info": {
   "name": "lua",
   "version": "5.1"
  }
 },
 "nbformat": 4,
 "nbformat_minor": 1
}
