{
 "cells": [
  {
   "cell_type": "markdown",
   "metadata": {},
   "source": [
    "## AS - TP2 - Mini-Batch, train/test et implémentation de critère"
   ]
  },
  {
   "cell_type": "code",
   "execution_count": 4,
   "metadata": {
    "collapsed": false
   },
   "outputs": [],
   "source": [
    " require 'nn'\n",
    " require 'gnuplot'\n",
    "\n",
    " ---------------------------------------------\n",
    " -------------- DATA MNIST  ------------------\n",
    " ---------------------------------------------\n",
    "\n",
    "local load_mnist = require 'load_mnist'\n",
    "x_train,y_train=load_mnist.get_train(2,3)\n",
    "x_test,y_test=load_mnist.get_test(2,3)\n",
    " -- 1: Creation du jeux de données\n",
    " local DIMENSION=x_train:size(2)\n",
    "\n",
    "---------------------------------------------\n",
    "-------------- CREATE MODEL -----------------\n",
    "---------------------------------------------\n",
    " local model= nn.Linear(DIMENSION, 1)\n",
    " local criterion= nn.MSECriterion()\n",
    " model:reset(0,1)\n",
    "\n",
    " ---------------------------------------------\n",
    " -------------- PREPARE BATCH ----------------\n",
    " --------------VECTOR ACCURACY ---------------\n",
    " --------------NO VECTOR ACCURACY-------------\n",
    "\n",
    "function Prepare_batch()\n",
    "   batch_size=25\n",
    "   --local nb_batch=torch.round(x_train:size(1)/batch_size)+1\n",
    "   shuffle = torch.randperm(x_train:size(1))\n",
    "   x_batch = shuffle:chunk(batch_size,1)\n",
    "   y_batch = shuffle:chunk(batch_size,1)\n",
    "   return x_batch,y_batch,batch_size\n",
    "end\n",
    "\n",
    "\n",
    "function Accuracy_vect(y,out)\n",
    "    cumul=torch.cmul(torch.sign(y),torch.sign(out))\n",
    "    acc=torch.mean(cumul)\n",
    "    return acc\n",
    "end\n",
    "\n",
    "function Accuracy_novect(y,out)\n",
    "  for i=1,out:size(1) do\n",
    "      if(out[i]*y[i]>0) then\n",
    "        sum=sum+1\n",
    "      end\n",
    "  end\n",
    "  acc=sum/out:size(1)\n",
    "  return acc\n",
    "end\n",
    "\n",
    "\n",
    "\n",
    "\n",
    "--------------------------------------------\n",
    "--------------TESTING ----------------------\n",
    "--------------------------------------------\n",
    "\n",
    "function Eval(xtest,ytest)\n",
    "    output = model:forward(xtest)\n",
    "    return Accuracy_vect(ytest,output)\n",
    "end\n",
    "---------------------------------------------\n",
    "-------------- TRAINNING  -------------------\n",
    "---------------------------------------------\n",
    " local learning_rate= 0.001\n",
    " local maxEpoch= 150\n",
    " local all_losses={}\n",
    " local all_Eval={}\n",
    " local timer = torch.Timer()\n",
    " local acc=0\n",
    "\n",
    "for iteration=1,maxEpoch do\n",
    "    x_batch,y_batch,batch_size=Prepare_batch()\n",
    "    loss=0\n",
    "    acc=Eval(x_test,y_test)\n",
    "    table.insert(all_Eval,acc)\n",
    "    for i=1,batch_size do\n",
    "        model:zeroGradParameters()\n",
    "        --Forward pass\n",
    "            -- Transform Table to Long ---> index(dim,torch.LongTensor))\n",
    "        \n",
    "        output = model:forward(x_train:index(1,x_batch[i]:long()))\n",
    "        loss = loss + criterion:forward(output,y_train:index(1,y_batch[i]:long()))\n",
    "        \n",
    "        --Backward pass\n",
    "        delta = criterion:backward(output,y_train:index(1, y_batch[i]:long()))\n",
    "        model:backward(x_train:index(1,x_batch[i]:long()),delta)\n",
    "        model:updateParameters(learning_rate)\n",
    "    end\n",
    "    table.insert(all_losses,loss)\n",
    "\n",
    "   --gnuplot.plot('eval acc',torch.Tensor(all_Eval))\n",
    "   --gnuplot.plot('train loss',torch.Tensor(all_losses))\n",
    "\n",
    "end"
   ]
  },
  {
   "cell_type": "code",
   "execution_count": 3,
   "metadata": {
    "collapsed": false
   },
   "outputs": [
    {
     "data": {
      "image/png": "[encoded data removed]",
      "text/plain": [
       "Console does not support images"
      ]
     },
     "metadata": {
      "image/png": {
       "height": 384,
       "width": 640
      }
     },
     "output_type": "display_data"
    },
    {
     "data": {
      "text/plain": [
       "\n"
      ]
     },
     "execution_count": 3,
     "metadata": {},
     "output_type": "execute_result"
    }
   ],
   "source": [
    "itorch.image('loss_mini_batch')"
   ]
  },
  {
   "cell_type": "code",
   "execution_count": 5,
   "metadata": {
    "collapsed": false
   },
   "outputs": [
    {
     "data": {
      "image/png": "[encoded data removed]",
      "text/plain": [
       "Console does not support images"
      ]
     },
     "metadata": {
      "image/png": {
       "height": 384,
       "width": 640
      }
     },
     "output_type": "display_data"
    },
    {
     "data": {
      "text/plain": [
       "\n"
      ]
     },
     "execution_count": 5,
     "metadata": {},
     "output_type": "execute_result"
    }
   ],
   "source": [
    "itorch.image('acc_test')"
   ]
  },
  {
   "cell_type": "code",
   "execution_count": 7,
   "metadata": {
    "collapsed": true
   },
   "outputs": [],
   "source": [
    "local HuberCriterion, parent = torch.class('HuberCriterion', 'nn.Criterion') -- heritage en torch\n",
    "\n",
    "function HuberCriterion:__init() -- constructeur\n",
    "-- equivalent a parent.__init(self)\n",
    "self.gradInput = torch.Tensor(1)\n",
    "self.output = 0\n",
    "self.delta=1\n",
    "end\n",
    "\n",
    "function HuberCriterion:forward(input, target) -- appel generique pour calculer le cout\n",
    "return self:updateOutput(input, target)\n",
    "end\n",
    "\n",
    "function HuberCriterion:updateOutput(input, target) \n",
    "    if torch.abs(input[1] - target[1]) < self.delta then\n",
    "        self.output=1/2*torch.pow((input[1]-target[1]),2)\n",
    "    else \n",
    "        self.output=self.delta*torch.abs(input[1]-target[1])-1/2*torch.pow(self.delta,2)\n",
    "    end\n",
    "    return self.output\n",
    "end\n",
    "\n",
    "function HuberCriterion:backward(input, target) -- appel generique pour calculer le gradient du cout\n",
    "    return self:updateGradInput(input, target)\n",
    "end\n",
    "\n",
    "function HuberCriterion:updateGradInput(input, target)\n",
    "    if (torch.abs(input[1]- target[1])<self.delta) then\n",
    "        self.gradInput[1]=(input[1]-target[1])\n",
    "    else \n",
    "        if(input[1]-target[1]>0) then \n",
    "            self.gradInput[1]=self.delta*1\n",
    "        else\n",
    "            self.gradInput[1]=self.delta*(-1)\n",
    "        end\n",
    "    end\n",
    "    \n",
    "    return self.gradInput\n",
    "end\n"
   ]
  },
  {
   "cell_type": "code",
   "execution_count": null,
   "metadata": {
    "collapsed": true
   },
   "outputs": [],
   "source": []
  }
 ],
 "metadata": {
  "kernelspec": {
   "display_name": "iTorch",
   "language": "lua",
   "name": "itorch"
  },
  "language_info": {
   "name": "lua",
   "version": "5.1"
  }
 },
 "nbformat": 4,
 "nbformat_minor": 1
}
